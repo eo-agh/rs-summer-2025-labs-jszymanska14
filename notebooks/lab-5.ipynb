{
 "cells": [
  {
   "cell_type": "markdown",
   "id": "0f11c463",
   "metadata": {},
   "source": [
    "# Lab 5: Land Surface Temperature using CORINE-based Emissivity"
   ]
  },
  {
   "cell_type": "markdown",
   "id": "290155fd",
   "metadata": {},
   "source": [
    "## 🎯 Objectives\n",
    "In this exercise, you will:\n",
    "- Select a cloud-free Landsat 8 images from 2013 and 2023 (or different if you're sure that you'll spot a difference in land cover)\n",
    "- Calculate Brightness Temperature (TB) from Band 10.\n",
    "- Load CORINE Land Cover data and assign emissivity values to each land cover class.\n",
    "- Use the Planck-based formula to calculate Land Surface Temperature (LST).\n",
    "- Visualize and interpret the results."
   ]
  },
  {
   "cell_type": "markdown",
   "id": "16d50ca3",
   "metadata": {},
   "source": [
    "## Step 1: Define Area of Interest (AOI)\n",
    "- Use coordinates around Reduta street in Kraków.\n",
    "- Create a polygon or rectangle using `ee.Geometry.Polygon`."
   ]
  },
  {
   "cell_type": "code",
   "id": "9a13c0ee",
   "metadata": {
    "ExecuteTime": {
     "end_time": "2025-04-22T00:20:51.245719Z",
     "start_time": "2025-04-22T00:20:50.071867Z"
    }
   },
   "source": [
    "import ee\n",
    "import geemap.foliumap as geemap\n",
    "import webbrowser\n",
    "import ssl\n",
    "\n",
    "ssl._create_default_https_context = ssl._create_stdlib_context\n",
    "ee.Authenticate()\n",
    "ee.Initialize(project='ee-juliaszymanska142')\n",
    "# Define AOI here\n",
    "aoi = ee.Geometry.Rectangle([19.884968, 50.012329, 19.908652, 50.025676])\n"
   ],
   "outputs": [
    {
     "data": {
      "text/plain": [
       "<IPython.core.display.HTML object>"
      ],
      "text/html": [
       "\n",
       "            <style>\n",
       "                .geemap-dark {\n",
       "                    --jp-widgets-color: white;\n",
       "                    --jp-widgets-label-color: white;\n",
       "                    --jp-ui-font-color1: white;\n",
       "                    --jp-layout-color2: #454545;\n",
       "                    background-color: #383838;\n",
       "                }\n",
       "\n",
       "                .geemap-dark .jupyter-button {\n",
       "                    --jp-layout-color3: #383838;\n",
       "                }\n",
       "\n",
       "                .geemap-colab {\n",
       "                    background-color: var(--colab-primary-surface-color, white);\n",
       "                }\n",
       "\n",
       "                .geemap-colab .jupyter-button {\n",
       "                    --jp-layout-color3: var(--colab-primary-surface-color, white);\n",
       "                }\n",
       "            </style>\n",
       "            "
      ]
     },
     "metadata": {},
     "output_type": "display_data"
    }
   ],
   "execution_count": 31
  },
  {
   "cell_type": "markdown",
   "id": "116de1cc",
   "metadata": {},
   "source": [
    "## Step 2: Load Landsat 8 imagery for the dates you've picked\n",
    "- Filter for low cloud cover (< 20%)\n",
    "- Select Band 10 and convert to TB using: `TB = ST_B10 * 0.00341802 + 149.0`"
   ]
  },
  {
   "cell_type": "code",
   "id": "bdb32790",
   "metadata": {
    "ExecuteTime": {
     "end_time": "2025-04-22T00:20:51.251502Z",
     "start_time": "2025-04-22T00:20:51.246831Z"
    }
   },
   "source": [
    "# Load image and calculate TB\n",
    "\n",
    "def get_landsat_image(year):\n",
    "    start_date = f'{year}-06-01'\n",
    "    end_date = f'{year}-07-31'\n",
    "    collection = ee.ImageCollection('LANDSAT/LC08/C02/T1_L2') \\\n",
    "        .filterBounds(aoi) \\\n",
    "        .filterDate(start_date, end_date) \\\n",
    "        .filter(ee.Filter.lt('CLOUD_COVER', 20)) \\\n",
    "        .sort('CLOUD_COVER')\n",
    "\n",
    "    image = collection.first()\n",
    "    if image is None:\n",
    "        raise Exception(f'Brak obrazów Landsat 8 dla roku {year}')\n",
    "    return image\n",
    "\n",
    "\n",
    "image_2023 = get_landsat_image(2023)\n",
    "thermal_band_2023 = image_2023.select('ST_B10')\n",
    "TB_2023 = thermal_band_2023.multiply(0.00341802).add(149.0)\n",
    "\n",
    "\n",
    "try:\n",
    "    image_2013 = get_landsat_image(2013)\n",
    "except Exception as e:\n",
    "    print(f'⚠️ {e} - próbuję załadować 2014')\n",
    "    image_2013 = get_landsat_image(2014)\n",
    "\n",
    "thermal_band_2013 = image_2013.select('ST_B10')\n",
    "TB_2013 = thermal_band_2013.multiply(0.00341802).add(149.0)\n",
    "\n",
    "\n"
   ],
   "outputs": [
    {
     "data": {
      "text/plain": [
       "<IPython.core.display.HTML object>"
      ],
      "text/html": [
       "\n",
       "            <style>\n",
       "                .geemap-dark {\n",
       "                    --jp-widgets-color: white;\n",
       "                    --jp-widgets-label-color: white;\n",
       "                    --jp-ui-font-color1: white;\n",
       "                    --jp-layout-color2: #454545;\n",
       "                    background-color: #383838;\n",
       "                }\n",
       "\n",
       "                .geemap-dark .jupyter-button {\n",
       "                    --jp-layout-color3: #383838;\n",
       "                }\n",
       "\n",
       "                .geemap-colab {\n",
       "                    background-color: var(--colab-primary-surface-color, white);\n",
       "                }\n",
       "\n",
       "                .geemap-colab .jupyter-button {\n",
       "                    --jp-layout-color3: var(--colab-primary-surface-color, white);\n",
       "                }\n",
       "            </style>\n",
       "            "
      ]
     },
     "metadata": {},
     "output_type": "display_data"
    }
   ],
   "execution_count": 32
  },
  {
   "cell_type": "markdown",
   "id": "57c2c4ea",
   "metadata": {},
   "source": [
    "## Step 3: Load CORINE Land Cover data\n",
    "- Use dataset `COPERNICUS/CORINE/V20/100m/2018`\n",
    "- Clip it to your AOI"
   ]
  },
  {
   "cell_type": "code",
   "id": "815fa4f6",
   "metadata": {
    "ExecuteTime": {
     "end_time": "2025-04-22T00:20:51.255111Z",
     "start_time": "2025-04-22T00:20:51.252349Z"
    }
   },
   "source": [
    "# Load CORINE\n",
    "corine = ee.Image('COPERNICUS/CORINE/V20/100m/2018').select('landcover').clip(aoi)\n"
   ],
   "outputs": [
    {
     "data": {
      "text/plain": [
       "<IPython.core.display.HTML object>"
      ],
      "text/html": [
       "\n",
       "            <style>\n",
       "                .geemap-dark {\n",
       "                    --jp-widgets-color: white;\n",
       "                    --jp-widgets-label-color: white;\n",
       "                    --jp-ui-font-color1: white;\n",
       "                    --jp-layout-color2: #454545;\n",
       "                    background-color: #383838;\n",
       "                }\n",
       "\n",
       "                .geemap-dark .jupyter-button {\n",
       "                    --jp-layout-color3: #383838;\n",
       "                }\n",
       "\n",
       "                .geemap-colab {\n",
       "                    background-color: var(--colab-primary-surface-color, white);\n",
       "                }\n",
       "\n",
       "                .geemap-colab .jupyter-button {\n",
       "                    --jp-layout-color3: var(--colab-primary-surface-color, white);\n",
       "                }\n",
       "            </style>\n",
       "            "
      ]
     },
     "metadata": {},
     "output_type": "display_data"
    }
   ],
   "execution_count": 33
  },
  {
   "cell_type": "markdown",
   "id": "d9991cfc",
   "metadata": {},
   "source": [
    "## Step 4: Assign emissivity to CORINE classes\n",
    "- Use a dictionary for classes\n",
    "- Use `remap()` and optionally a default value"
   ]
  },
  {
   "cell_type": "code",
   "id": "3d027423",
   "metadata": {
    "ExecuteTime": {
     "end_time": "2025-04-22T00:20:51.260139Z",
     "start_time": "2025-04-22T00:20:51.256433Z"
    }
   },
   "source": [
    "\n",
    "\n",
    "# Create emissivity image\n",
    "\n",
    "emissivity_dict = {\n",
    "    111: 0.92,\n",
    "    112: 0.92,\n",
    "    121: 0.91,\n",
    "    211: 0.96,\n",
    "    311: 0.98,\n",
    "    412: 0.97,\n",
    "    324: 0.96,\n",
    "    231: 0.97\n",
    "}\n",
    "\n",
    "corine_classes = list(emissivity_dict.keys())\n",
    "emissivity_values = list(emissivity_dict.values())\n",
    "emissivity = corine.remap(corine_classes, emissivity_values).rename('emissivity')\n",
    "emissivity = emissivity.unmask(0.98)\n",
    "\n",
    "\n"
   ],
   "outputs": [
    {
     "data": {
      "text/plain": [
       "<IPython.core.display.HTML object>"
      ],
      "text/html": [
       "\n",
       "            <style>\n",
       "                .geemap-dark {\n",
       "                    --jp-widgets-color: white;\n",
       "                    --jp-widgets-label-color: white;\n",
       "                    --jp-ui-font-color1: white;\n",
       "                    --jp-layout-color2: #454545;\n",
       "                    background-color: #383838;\n",
       "                }\n",
       "\n",
       "                .geemap-dark .jupyter-button {\n",
       "                    --jp-layout-color3: #383838;\n",
       "                }\n",
       "\n",
       "                .geemap-colab {\n",
       "                    background-color: var(--colab-primary-surface-color, white);\n",
       "                }\n",
       "\n",
       "                .geemap-colab .jupyter-button {\n",
       "                    --jp-layout-color3: var(--colab-primary-surface-color, white);\n",
       "                }\n",
       "            </style>\n",
       "            "
      ]
     },
     "metadata": {},
     "output_type": "display_data"
    }
   ],
   "execution_count": 34
  },
  {
   "cell_type": "markdown",
   "id": "dd518aea",
   "metadata": {},
   "source": [
    "\n",
    "## Step 5: Calculate LST using the formula:\n",
    "$$\n",
    "LST = \\frac{T_B}{1 + \\left( \\frac{\\lambda \\cdot T_B}{c_2} \\right) \\cdot \\ln(\\varepsilon)}\n",
    "$$\n",
    "- λ = 10.8 µm\n",
    "- c₂ = 14388 µm·K"
   ]
  },
  {
   "cell_type": "code",
   "id": "171008bc",
   "metadata": {
    "ExecuteTime": {
     "end_time": "2025-04-22T00:20:51.264318Z",
     "start_time": "2025-04-22T00:20:51.260834Z"
    }
   },
   "source": [
    "# Calculate LST\n",
    "lambda_val = 10.8\n",
    "c2 = 14388\n",
    "\n",
    "lst_2023 = TB_2023.divide(\n",
    "    ee.Image(1).add(\n",
    "        (ee.Image(lambda_val).multiply(TB_2023))\n",
    "        .divide(c2)\n",
    "        .multiply(emissivity.log())\n",
    "    )\n",
    ").rename('LST')\n",
    "\n",
    "lst_2013 = TB_2013.divide(\n",
    "    ee.Image(1).add(\n",
    "        (ee.Image(lambda_val).multiply(TB_2013))\n",
    "        .divide(c2)\n",
    "        .multiply(emissivity.log())\n",
    "    )\n",
    ").rename('LST')\n"
   ],
   "outputs": [
    {
     "data": {
      "text/plain": [
       "<IPython.core.display.HTML object>"
      ],
      "text/html": [
       "\n",
       "            <style>\n",
       "                .geemap-dark {\n",
       "                    --jp-widgets-color: white;\n",
       "                    --jp-widgets-label-color: white;\n",
       "                    --jp-ui-font-color1: white;\n",
       "                    --jp-layout-color2: #454545;\n",
       "                    background-color: #383838;\n",
       "                }\n",
       "\n",
       "                .geemap-dark .jupyter-button {\n",
       "                    --jp-layout-color3: #383838;\n",
       "                }\n",
       "\n",
       "                .geemap-colab {\n",
       "                    background-color: var(--colab-primary-surface-color, white);\n",
       "                }\n",
       "\n",
       "                .geemap-colab .jupyter-button {\n",
       "                    --jp-layout-color3: var(--colab-primary-surface-color, white);\n",
       "                }\n",
       "            </style>\n",
       "            "
      ]
     },
     "metadata": {},
     "output_type": "display_data"
    }
   ],
   "execution_count": 35
  },
  {
   "cell_type": "markdown",
   "id": "ffdeffa4",
   "metadata": {},
   "source": [
    "## Step 6: Visualize the LST result\n",
    "- Use palette: `['blue', 'yellow', 'red']`\n",
    "- Suggested range: `min=290`, `max=325`"
   ]
  },
  {
   "cell_type": "code",
   "id": "b4d0f08e",
   "metadata": {
    "ExecuteTime": {
     "end_time": "2025-04-22T00:20:54.015576Z",
     "start_time": "2025-04-22T00:20:51.265398Z"
    }
   },
   "source": [
    "visualization_params = {\n",
    "    'min': 290,\n",
    "    'max': 325,\n",
    "    'palette': ['blue', 'yellow', 'red']\n",
    "}\n",
    "\n",
    "Map = geemap.Map()\n",
    "Map.centerObject(aoi, 13)\n",
    "Map.addLayer(lst_2013.clip(aoi), visualization_params, 'LST 2013 (lub 2014)')\n",
    "Map.addLayer(lst_2023.clip(aoi), visualization_params, 'LST 2023')\n",
    "Map.addLayer(corine.clip(aoi), {}, 'CORINE')\n",
    "Map.addLayer(emissivity.clip(aoi), {'min': 0.9, 'max': 1.0}, 'Emissivity')\n",
    "Map.save(\"LST_Comparison_2013_2023.html\")\n",
    "webbrowser.open(\"LST_Comparison_2013_2023.html\")\n",
    "\n"
   ],
   "outputs": [
    {
     "data": {
      "text/plain": [
       "<IPython.core.display.HTML object>"
      ],
      "text/html": [
       "\n",
       "            <style>\n",
       "                .geemap-dark {\n",
       "                    --jp-widgets-color: white;\n",
       "                    --jp-widgets-label-color: white;\n",
       "                    --jp-ui-font-color1: white;\n",
       "                    --jp-layout-color2: #454545;\n",
       "                    background-color: #383838;\n",
       "                }\n",
       "\n",
       "                .geemap-dark .jupyter-button {\n",
       "                    --jp-layout-color3: #383838;\n",
       "                }\n",
       "\n",
       "                .geemap-colab {\n",
       "                    background-color: var(--colab-primary-surface-color, white);\n",
       "                }\n",
       "\n",
       "                .geemap-colab .jupyter-button {\n",
       "                    --jp-layout-color3: var(--colab-primary-surface-color, white);\n",
       "                }\n",
       "            </style>\n",
       "            "
      ]
     },
     "metadata": {},
     "output_type": "display_data"
    },
    {
     "data": {
      "text/plain": [
       "True"
      ]
     },
     "execution_count": 36,
     "metadata": {},
     "output_type": "execute_result"
    }
   ],
   "execution_count": 36
  },
  {
   "cell_type": "markdown",
   "id": "74c186bf",
   "metadata": {},
   "source": [
    "## Step 7: (Optional) Analyze statistics by land cover class"
   ]
  },
  {
   "cell_type": "code",
   "id": "05596938",
   "metadata": {
    "ExecuteTime": {
     "end_time": "2025-04-22T00:20:59.299221Z",
     "start_time": "2025-04-22T00:20:54.016748Z"
    }
   },
   "source": [
    "print(\"\\nŚrednia LST w klasach CORINE (2013 i 2023):\")\n",
    "for corine_class in corine_classes:\n",
    "    zone_mask = corine.eq(corine_class)\n",
    "\n",
    "    masked_lst_2013 = lst_2013.updateMask(zone_mask)\n",
    "    masked_lst_2023 = lst_2023.updateMask(zone_mask)\n",
    "\n",
    "    stats_2013 = masked_lst_2013.reduceRegion(\n",
    "        reducer=ee.Reducer.mean(),\n",
    "        geometry=aoi,\n",
    "        scale=100,\n",
    "        maxPixels=1e9\n",
    "    )\n",
    "\n",
    "    stats_2023 = masked_lst_2023.reduceRegion(\n",
    "        reducer=ee.Reducer.mean(),\n",
    "        geometry=aoi,\n",
    "        scale=100,\n",
    "        maxPixels=1e9\n",
    "    )\n",
    "\n",
    "    try:\n",
    "        mean_2013 = stats_2013.getInfo().get('LST')\n",
    "        mean_2023 = stats_2023.getInfo().get('LST')\n",
    "        print(f'CORINE {corine_class}: {mean_2013:.2f} K (2013) → {mean_2023:.2f} K (2023)')\n",
    "    except Exception as e:\n",
    "        print(f'Błąd dla klasy {corine_class}: {e}')\n"
   ],
   "outputs": [
    {
     "data": {
      "text/plain": [
       "<IPython.core.display.HTML object>"
      ],
      "text/html": [
       "\n",
       "            <style>\n",
       "                .geemap-dark {\n",
       "                    --jp-widgets-color: white;\n",
       "                    --jp-widgets-label-color: white;\n",
       "                    --jp-ui-font-color1: white;\n",
       "                    --jp-layout-color2: #454545;\n",
       "                    background-color: #383838;\n",
       "                }\n",
       "\n",
       "                .geemap-dark .jupyter-button {\n",
       "                    --jp-layout-color3: #383838;\n",
       "                }\n",
       "\n",
       "                .geemap-colab {\n",
       "                    background-color: var(--colab-primary-surface-color, white);\n",
       "                }\n",
       "\n",
       "                .geemap-colab .jupyter-button {\n",
       "                    --jp-layout-color3: var(--colab-primary-surface-color, white);\n",
       "                }\n",
       "            </style>\n",
       "            "
      ]
     },
     "metadata": {},
     "output_type": "display_data"
    },
    {
     "name": "stdout",
     "output_type": "stream",
     "text": [
      "\n",
      "Średnia LST w klasach CORINE (2013 i 2023):\n",
      "Błąd dla klasy 111: unsupported format string passed to NoneType.__format__\n",
      "CORINE 112: 315.75 K (2013) → 310.89 K (2023)\n",
      "Błąd dla klasy 121: unsupported format string passed to NoneType.__format__\n",
      "Błąd dla klasy 211: unsupported format string passed to NoneType.__format__\n",
      "Błąd dla klasy 311: unsupported format string passed to NoneType.__format__\n",
      "Błąd dla klasy 412: unsupported format string passed to NoneType.__format__\n",
      "Błąd dla klasy 324: unsupported format string passed to NoneType.__format__\n",
      "CORINE 231: 307.23 K (2013) → 303.74 K (2023)\n"
     ]
    }
   ],
   "execution_count": 37
  },
  {
   "cell_type": "markdown",
   "id": "40c948a6",
   "metadata": {},
   "source": [
    "## Step 8: (Optional - Easter Egg :)) Generate your own Land Cover Classification using TerraTorch and foundation models*\n",
    "\n",
    "Based on the example/tutorial: https://aiforgood.itu.int/event/workshop-earth-observation-foundation-models-with-prithvi-eo-2-0-and-terratorch/\n",
    "\n",
    "*to earn 5.0 grade that will make a great impact on your final grade"
   ]
  },
  {
   "cell_type": "markdown",
   "id": "d4178201",
   "metadata": {},
   "source": []
  },
  {
   "cell_type": "markdown",
   "id": "7092e98e",
   "metadata": {},
   "source": []
  }
 ],
 "metadata": {
  "kernelspec": {
   "display_name": "gee",
   "language": "python",
   "name": "python3"
  },
  "language_info": {
   "codemirror_mode": {
    "name": "ipython",
    "version": 3
   },
   "file_extension": ".py",
   "mimetype": "text/x-python",
   "name": "python",
   "nbconvert_exporter": "python",
   "pygments_lexer": "ipython3",
   "version": "3.11.11"
  }
 },
 "nbformat": 4,
 "nbformat_minor": 5
}
