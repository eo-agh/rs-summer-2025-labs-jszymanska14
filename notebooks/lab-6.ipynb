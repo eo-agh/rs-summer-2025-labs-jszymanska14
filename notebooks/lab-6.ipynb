{
 "cells": [
  {
   "cell_type": "markdown",
   "id": "47c657de",
   "metadata": {},
   "source": [
    "\n",
    "# 🌍 Manual TOA Reflectance from Landsat 8\n",
    "\n",
    "## 🎯 Learning Objectives:\n",
    "- Load Landsat 8 Level-1 data from Earth Engine\n",
    "- Understand the process of converting DN values to radiance\n",
    "- Compute Top-of-Atmosphere (TOA) reflectance from radiance\n",
    "- Visualize results on an interactive map using `geemap`\n",
    "\n",
    "---\n",
    "\n",
    "## 📝 Your Tasks:\n",
    "1. Load a Landsat 8 Level-1 image over Kraków in July 2021.\n",
    "2. From metadata, extract the scaling coefficients for each band (RADIANCE_MULT, RADIANCE_ADD).\n",
    "3. Convert DN to Radiance using the linear formula.\n",
    "4. Use the ESUN values and solar elevation to convert Radiance to TOA Reflectance.\n",
    "5. Visualize both the original DN RGB and your TOA Reflectance RGB image.\n",
    "6. (Optional) Try using a different location or time range.\n"
   ]
  },
  {
   "cell_type": "markdown",
   "id": "34ab523d",
   "metadata": {},
   "source": [
    "\n",
    "## 🗺️ Step 1: Define Area of Interest (AOI)\n",
    "\n",
    "Use Kraków (Poland) as your starting point. You can define this using a point geometry.\n"
   ]
  },
  {
   "metadata": {
    "ExecuteTime": {
     "end_time": "2025-04-23T18:34:36.707827Z",
     "start_time": "2025-04-23T18:34:31.875299Z"
    }
   },
   "cell_type": "code",
   "source": [
    "import ee\n",
    "import geemap.foliumap as geemap\n",
    "import webbrowser\n",
    "import ssl\n",
    "\n",
    "ssl._create_default_https_context = ssl._create_stdlib_context\n",
    "ee.Authenticate()\n",
    "ee.Initialize(project='ee-juliaszymanska142')\n",
    "\n",
    "aoi = ee.Geometry.Point([19.9449799, 50.0646501])"
   ],
   "id": "26aac93bff7d2956",
   "outputs": [],
   "execution_count": 2
  },
  {
   "cell_type": "markdown",
   "id": "37768612",
   "metadata": {},
   "source": [
    "\n",
    "## 📦 Step 2: Load Landsat 8 Level-1 Image (Collection 2)\n",
    "\n",
    "Load the `LANDSAT/LC08/C02/T1_L1` collection, filter for July 2021, and select the image with the least cloud cover.\n"
   ]
  },
  {
   "metadata": {
    "ExecuteTime": {
     "end_time": "2025-04-23T18:34:49.510507Z",
     "start_time": "2025-04-23T18:34:38.107531Z"
    }
   },
   "cell_type": "code",
   "source": [
    "image = (ee.ImageCollection(\"LANDSAT/LC08/C02/T1\")\n",
    "         .filterBounds(aoi)\n",
    "         .filterDate('2021-07-01', '2021-07-31')\n",
    "         .sort('CLOUD_COVER')\n",
    "         .first())\n",
    "\n",
    "\n",
    "\n",
    "\n",
    "print('Image ID:', image.getInfo()['id'])\n"
   ],
   "id": "f9dbf43b970cbdb5",
   "outputs": [
    {
     "data": {
      "text/plain": [
       "<IPython.core.display.HTML object>"
      ],
      "text/html": [
       "\n",
       "            <style>\n",
       "                .geemap-dark {\n",
       "                    --jp-widgets-color: white;\n",
       "                    --jp-widgets-label-color: white;\n",
       "                    --jp-ui-font-color1: white;\n",
       "                    --jp-layout-color2: #454545;\n",
       "                    background-color: #383838;\n",
       "                }\n",
       "\n",
       "                .geemap-dark .jupyter-button {\n",
       "                    --jp-layout-color3: #383838;\n",
       "                }\n",
       "\n",
       "                .geemap-colab {\n",
       "                    background-color: var(--colab-primary-surface-color, white);\n",
       "                }\n",
       "\n",
       "                .geemap-colab .jupyter-button {\n",
       "                    --jp-layout-color3: var(--colab-primary-surface-color, white);\n",
       "                }\n",
       "            </style>\n",
       "            "
      ]
     },
     "metadata": {},
     "output_type": "display_data"
    },
    {
     "name": "stdout",
     "output_type": "stream",
     "text": [
      "Image ID: LANDSAT/LC08/C02/T1/LC08_188025_20210728\n"
     ]
    }
   ],
   "execution_count": 3
  },
  {
   "cell_type": "markdown",
   "id": "f8019cf1",
   "metadata": {},
   "source": [
    "\n",
    "## 🔢 Step 3: Convert DN to Radiance\n",
    "\n",
    "Use the formula:\n",
    "\n",
    "```\n",
    "Radiance = M_L * DN + A_L\n",
    "```\n",
    "\n",
    "Where:\n",
    "- `M_L` is `RADIANCE_MULT_BAND_X` from metadata\n",
    "- `A_L` is `RADIANCE_ADD_BAND_X`\n",
    "- DN is the digital number of each band\n",
    "\n",
    "💡 Tip: You can use `image.get('RADIANCE_MULT_BAND_4')` to retrieve the multiplier for band 4.\n"
   ]
  },
  {
   "metadata": {
    "ExecuteTime": {
     "end_time": "2025-04-23T18:34:51.523519Z",
     "start_time": "2025-04-23T18:34:51.519234Z"
    }
   },
   "cell_type": "code",
   "source": [
    "def get_radiance_band(band):\n",
    "    M = ee.Number(image.get(f'RADIANCE_MULT_BAND_{band}'))\n",
    "    A = ee.Number(image.get(f'RADIANCE_ADD_BAND_{band}'))\n",
    "    DN = image.select(f'B{band}')\n",
    "    return DN.multiply(M).add(A).rename(f'B{band}_rad')\n",
    "\n",
    "radiance = ee.Image.cat([\n",
    "    get_radiance_band(2),\n",
    "    get_radiance_band(3),\n",
    "    get_radiance_band(4)\n",
    "])\n",
    "\n",
    "\n"
   ],
   "id": "ea2fbc105799078a",
   "outputs": [
    {
     "data": {
      "text/plain": [
       "<IPython.core.display.HTML object>"
      ],
      "text/html": [
       "\n",
       "            <style>\n",
       "                .geemap-dark {\n",
       "                    --jp-widgets-color: white;\n",
       "                    --jp-widgets-label-color: white;\n",
       "                    --jp-ui-font-color1: white;\n",
       "                    --jp-layout-color2: #454545;\n",
       "                    background-color: #383838;\n",
       "                }\n",
       "\n",
       "                .geemap-dark .jupyter-button {\n",
       "                    --jp-layout-color3: #383838;\n",
       "                }\n",
       "\n",
       "                .geemap-colab {\n",
       "                    background-color: var(--colab-primary-surface-color, white);\n",
       "                }\n",
       "\n",
       "                .geemap-colab .jupyter-button {\n",
       "                    --jp-layout-color3: var(--colab-primary-surface-color, white);\n",
       "                }\n",
       "            </style>\n",
       "            "
      ]
     },
     "metadata": {},
     "output_type": "display_data"
    }
   ],
   "execution_count": 4
  },
  {
   "cell_type": "markdown",
   "id": "29d08a4a",
   "metadata": {},
   "source": [
    "\n",
    "## 📊 Step 4: Convert Radiance to TOA Reflectance\n",
    "\n",
    "Use the following equation from the USGS Landsat Handbook:\n",
    "\n",
    "```\n",
    "TOA Reflectance = (π * L_λ * d²) / (ESUN * cos(θ_s))\n",
    "```\n",
    "\n",
    "Where:\n",
    "- `L_λ` = radiance\n",
    "- `d` = Earth–Sun distance in AU (assume 1.0 for simplification)\n",
    "- `ESUN` = solar spectral irradiance (use constants from handbook)\n",
    "- `θ_s` = solar zenith angle = 90° - sun elevation (from image metadata)\n",
    "\n",
    "Use these ESUN values:\n",
    "- B2: 2067  \n",
    "- B3: 1893  \n",
    "- B4: 1603  \n",
    "- B5: 972\n"
   ]
  },
  {
   "metadata": {
    "ExecuteTime": {
     "end_time": "2025-04-23T18:34:56.333205Z",
     "start_time": "2025-04-23T18:34:54.134010Z"
    }
   },
   "cell_type": "code",
   "source": [
    "import math\n",
    "\n",
    "ESUN = {\n",
    "    'B2': 2067,\n",
    "    'B3': 1893,\n",
    "    'B4': 1603,\n",
    "}\n",
    "\n",
    "sun_elev_val = image.getInfo().get('properties', {}).get('SUN_ELEVATION')\n",
    "if sun_elev_val is None:\n",
    "    raise ValueError(\"Brakuje wartości 'SUN_ELEVATION' w metadanych obrazu.\")\n",
    "sun_elev = ee.Number(sun_elev_val)\n",
    "sun_zenith_rad = ee.Number(90).subtract(sun_elev).multiply(math.pi).divide(180)\n",
    "cos_theta = sun_zenith_rad.cos()\n",
    "\n",
    "def to_toa(band):\n",
    "    L = radiance.select(f'B{band}_rad')\n",
    "    esun_bn = ee.Number(ESUN[f'B{band}'])\n",
    "    return L.multiply(math.pi).divide(esun_bn.multiply(cos_theta)).rename(f'B{band}_toa')\n",
    "\n",
    "toa_image = ee.Image.cat([\n",
    "    to_toa(2),\n",
    "    to_toa(3),\n",
    "    to_toa(4)\n",
    "])"
   ],
   "id": "96992246f1c01fab",
   "outputs": [
    {
     "data": {
      "text/plain": [
       "<IPython.core.display.HTML object>"
      ],
      "text/html": [
       "\n",
       "            <style>\n",
       "                .geemap-dark {\n",
       "                    --jp-widgets-color: white;\n",
       "                    --jp-widgets-label-color: white;\n",
       "                    --jp-ui-font-color1: white;\n",
       "                    --jp-layout-color2: #454545;\n",
       "                    background-color: #383838;\n",
       "                }\n",
       "\n",
       "                .geemap-dark .jupyter-button {\n",
       "                    --jp-layout-color3: #383838;\n",
       "                }\n",
       "\n",
       "                .geemap-colab {\n",
       "                    background-color: var(--colab-primary-surface-color, white);\n",
       "                }\n",
       "\n",
       "                .geemap-colab .jupyter-button {\n",
       "                    --jp-layout-color3: var(--colab-primary-surface-color, white);\n",
       "                }\n",
       "            </style>\n",
       "            "
      ]
     },
     "metadata": {},
     "output_type": "display_data"
    }
   ],
   "execution_count": 5
  },
  {
   "cell_type": "markdown",
   "id": "17b48693",
   "metadata": {},
   "source": [
    "\n",
    "## 🖼️ Step 5: Visualize the Results\n",
    "\n",
    "Use `geemap` to create an interactive map. Display:\n",
    "- Original RGB from DN bands\n",
    "- Your manually calculated TOA Reflectance RGB\n",
    "\n",
    "💡 Hint: Use `.clamp(0, 0.4)` on reflectance bands for better visualization.\n"
   ]
  },
  {
   "metadata": {
    "ExecuteTime": {
     "end_time": "2025-04-23T18:35:07.329364Z",
     "start_time": "2025-04-23T18:34:57.612408Z"
    }
   },
   "cell_type": "code",
   "source": [
    "rgb_vis_dn = {\n",
    "    'bands': ['B4', 'B3', 'B2'],\n",
    "    'min': 0,\n",
    "    'max': 10000,\n",
    "    'gamma': 1.4\n",
    "}\n",
    "rgb_vis_toa = {\n",
    "    'bands': ['B4_toa', 'B3_toa', 'B2_toa'],\n",
    "    'min': 0.0,\n",
    "    'max': 0.4,\n",
    "    'gamma': 1.2\n",
    "}\n",
    "\n",
    "Map = geemap.Map(center=[50.0647, 19.945], zoom=10)\n",
    "Map.addLayer(image, rgb_vis_dn, 'Original DN RGB')\n",
    "Map.addLayer(toa_image.clamp(0, 0.4), rgb_vis_toa, 'TOA Reflectance RGB')\n",
    "Map.addLayer(aoi, {'color': 'red'}, 'AOI – Kraków')\n",
    "\n",
    "Map.save(\"Landsat_2021_krakow_map.html\")\n",
    "\n",
    "\n",
    "webbrowser.open(\"Landsat_2021_krakow_map.html\")"
   ],
   "id": "ee57eb3e083fe1c9",
   "outputs": [
    {
     "data": {
      "text/plain": [
       "<IPython.core.display.HTML object>"
      ],
      "text/html": [
       "\n",
       "            <style>\n",
       "                .geemap-dark {\n",
       "                    --jp-widgets-color: white;\n",
       "                    --jp-widgets-label-color: white;\n",
       "                    --jp-ui-font-color1: white;\n",
       "                    --jp-layout-color2: #454545;\n",
       "                    background-color: #383838;\n",
       "                }\n",
       "\n",
       "                .geemap-dark .jupyter-button {\n",
       "                    --jp-layout-color3: #383838;\n",
       "                }\n",
       "\n",
       "                .geemap-colab {\n",
       "                    background-color: var(--colab-primary-surface-color, white);\n",
       "                }\n",
       "\n",
       "                .geemap-colab .jupyter-button {\n",
       "                    --jp-layout-color3: var(--colab-primary-surface-color, white);\n",
       "                }\n",
       "            </style>\n",
       "            "
      ]
     },
     "metadata": {},
     "output_type": "display_data"
    },
    {
     "data": {
      "text/plain": [
       "True"
      ]
     },
     "execution_count": 6,
     "metadata": {},
     "output_type": "execute_result"
    }
   ],
   "execution_count": 6
  },
  {
   "cell_type": "markdown",
   "id": "211ece04",
   "metadata": {},
   "source": [
    "\n",
    "## 🧪 Optional Extensions\n",
    "\n",
    "- Try the same workflow on a different city or biome (e.g., desert, rainforest).\n",
    "- Add NIR band to your analysis (B5).\n",
    "- Compute NDVI from TOA or compare with Surface Reflectance data.\n",
    "- Export the resulting reflectance image to Google Drive.\n"
   ]
  }
 ],
 "metadata": {
  "language_info": {
   "name": "python"
  },
  "kernelspec": {
   "name": "python3",
   "language": "python",
   "display_name": "Python 3 (ipykernel)"
  }
 },
 "nbformat": 4,
 "nbformat_minor": 5
}
