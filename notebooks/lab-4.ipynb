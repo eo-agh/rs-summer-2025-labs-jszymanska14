{
 "cells": [
  {
   "cell_type": "code",
   "id": "initial_id",
   "metadata": {
    "collapsed": true,
    "ExecuteTime": {
     "end_time": "2025-04-12T11:08:29.251937Z",
     "start_time": "2025-04-12T11:08:28.134445Z"
    }
   },
   "source": [
    "import ee\n",
    "import geemap\n",
    "ee.Authenticate()\n",
    "ee.Initialize(project=\"ee-juliaszymanska142\")"
   ],
   "outputs": [
    {
     "data": {
      "text/plain": [
       "<IPython.core.display.HTML object>"
      ],
      "text/html": [
       "\n",
       "            <style>\n",
       "                .geemap-dark {\n",
       "                    --jp-widgets-color: white;\n",
       "                    --jp-widgets-label-color: white;\n",
       "                    --jp-ui-font-color1: white;\n",
       "                    --jp-layout-color2: #454545;\n",
       "                    background-color: #383838;\n",
       "                }\n",
       "\n",
       "                .geemap-dark .jupyter-button {\n",
       "                    --jp-layout-color3: #383838;\n",
       "                }\n",
       "\n",
       "                .geemap-colab {\n",
       "                    background-color: var(--colab-primary-surface-color, white);\n",
       "                }\n",
       "\n",
       "                .geemap-colab .jupyter-button {\n",
       "                    --jp-layout-color3: var(--colab-primary-surface-color, white);\n",
       "                }\n",
       "            </style>\n",
       "            "
      ]
     },
     "metadata": {},
     "output_type": "display_data"
    }
   ],
   "execution_count": 18
  },
  {
   "metadata": {},
   "cell_type": "markdown",
   "source": "",
   "id": "f43b10d1cdfde698"
  },
  {
   "metadata": {},
   "cell_type": "markdown",
   "source": [
    "Task 1: Area of Interest (AOI)\n",
    "\n",
    "Define an AOI over the Reduta Street area in Kraków.\n",
    "Use ee.Geometry.Polygon or ee.Geometry.Rectangle."
   ],
   "id": "e60160a809ba7475"
  },
  {
   "metadata": {
    "ExecuteTime": {
     "end_time": "2025-04-12T11:08:29.259050Z",
     "start_time": "2025-04-12T11:08:29.254833Z"
    }
   },
   "cell_type": "code",
   "source": [
    "\n",
    "aoi = ee.Geometry.Rectangle([19.884968, 50.025676, 19.908652, 50.012329])\n"
   ],
   "id": "13de99396bbf66b3",
   "outputs": [
    {
     "data": {
      "text/plain": [
       "<IPython.core.display.HTML object>"
      ],
      "text/html": [
       "\n",
       "            <style>\n",
       "                .geemap-dark {\n",
       "                    --jp-widgets-color: white;\n",
       "                    --jp-widgets-label-color: white;\n",
       "                    --jp-ui-font-color1: white;\n",
       "                    --jp-layout-color2: #454545;\n",
       "                    background-color: #383838;\n",
       "                }\n",
       "\n",
       "                .geemap-dark .jupyter-button {\n",
       "                    --jp-layout-color3: #383838;\n",
       "                }\n",
       "\n",
       "                .geemap-colab {\n",
       "                    background-color: var(--colab-primary-surface-color, white);\n",
       "                }\n",
       "\n",
       "                .geemap-colab .jupyter-button {\n",
       "                    --jp-layout-color3: var(--colab-primary-surface-color, white);\n",
       "                }\n",
       "            </style>\n",
       "            "
      ]
     },
     "metadata": {},
     "output_type": "display_data"
    }
   ],
   "execution_count": 19
  },
  {
   "metadata": {},
   "cell_type": "markdown",
   "source": [
    "Task 2: Download and Analyze IMGW Meteorological Data\n",
    "\n",
    "Visit: IMGW Archive\n",
    "Navigate to:\n",
    "dane_meteorologiczne/dobowe/synop/2013/\n",
    "dane_meteorologiczne/dobowe/synop/2024/\n",
    "Download s_d_tmax.csv for both years.\n",
    "Filter the rows for station ID 12566 (e.g. Kraków-Balice).\n",
    "Identify days in July or August with TMAX > 27°C.\n"
   ],
   "id": "82453e48ca1459fe"
  },
  {
   "metadata": {
    "ExecuteTime": {
     "end_time": "2025-04-12T11:08:29.342587Z",
     "start_time": "2025-04-12T11:08:29.260346Z"
    }
   },
   "cell_type": "code",
   "source": [
    "import pandas as pd\n",
    "df = pd.read_csv('/Users/juliaszymanska/main.py/lab_1_downstream/pythonProject2/rs-summer-2025-labs-jszymanska14/data/k_d_08_2013.csv', encoding='cp1250')\n",
    "\n",
    "df.columns = [\n",
    "    'id', 'miejsce', 'rok', 'miesiac', 'dzien', 'temperatura',\n",
    "    'kol1', 'kol2', 'kol3', 'kol4', 'kol5', 'kol6',\n",
    "    'kol7', 'kol8', 'kol9', 'kol10', 'kol11', 'kol12'\n",
    "]\n",
    "\n",
    "\n",
    "df.to_csv('2013_ok.csv', index=False)\n",
    "\n",
    "df = pd.read_csv('/Users/juliaszymanska/main.py/lab_1_downstream/pythonProject2/rs-summer-2025-labs-jszymanska14/data/k_d_08_2024.csv', encoding='cp1250')\n",
    "\n",
    "df.columns = [\n",
    "    'id', 'miejsce', 'rok', 'miesiac', 'dzien', 'temperatura',\n",
    "    'kol1', 'kol2', 'kol3', 'kol4', 'kol5', 'kol6',\n",
    "    'kol7', 'kol8', 'kol9', 'kol10', 'kol11', 'kol12'\n",
    "]\n",
    "\n",
    "\n",
    "df.to_csv('2024_ok.csv', index=False)\n"
   ],
   "id": "fa661cab53a9d12a",
   "outputs": [
    {
     "data": {
      "text/plain": [
       "<IPython.core.display.HTML object>"
      ],
      "text/html": [
       "\n",
       "            <style>\n",
       "                .geemap-dark {\n",
       "                    --jp-widgets-color: white;\n",
       "                    --jp-widgets-label-color: white;\n",
       "                    --jp-ui-font-color1: white;\n",
       "                    --jp-layout-color2: #454545;\n",
       "                    background-color: #383838;\n",
       "                }\n",
       "\n",
       "                .geemap-dark .jupyter-button {\n",
       "                    --jp-layout-color3: #383838;\n",
       "                }\n",
       "\n",
       "                .geemap-colab {\n",
       "                    background-color: var(--colab-primary-surface-color, white);\n",
       "                }\n",
       "\n",
       "                .geemap-colab .jupyter-button {\n",
       "                    --jp-layout-color3: var(--colab-primary-surface-color, white);\n",
       "                }\n",
       "            </style>\n",
       "            "
      ]
     },
     "metadata": {},
     "output_type": "display_data"
    }
   ],
   "execution_count": 20
  },
  {
   "metadata": {
    "ExecuteTime": {
     "end_time": "2025-04-12T11:08:29.365942Z",
     "start_time": "2025-04-12T11:08:29.343871Z"
    }
   },
   "cell_type": "code",
   "source": [
    "\n",
    "import pandas as pd\n",
    "\n",
    "\n",
    "df = pd.read_csv('/Users/juliaszymanska/main.py/lab_1_downstream/pythonProject2/rs-summer-2025-labs-jszymanska14/notebooks/2013_ok.csv',  encoding='latin1')\n",
    "print(df.columns)\n",
    "\n",
    "hot_days_2013 = df[df['id'] == 250190390]\n",
    "\n",
    "hot_days_2013 = hot_days_2013[hot_days_2013['temperatura'] > 27]\n",
    "\n",
    "print(\"hot_days_2013\")\n",
    "print(hot_days_2013)\n",
    "\n",
    "df = pd.read_csv('/Users/juliaszymanska/main.py/lab_1_downstream/pythonProject2/rs-summer-2025-labs-jszymanska14/notebooks/2024_ok.csv',  encoding='latin1')\n",
    "print(df.columns)\n",
    "\n",
    "hot_days_2024 = df[df['id'] == 250190390]\n",
    "\n",
    "hot_days_2024 = hot_days_2024[hot_days_2024['temperatura'] > 27]\n",
    "\n",
    "print(\"hot_days_2024\")\n",
    "print(hot_days_2024)"
   ],
   "id": "4a99e89660a142e0",
   "outputs": [
    {
     "data": {
      "text/plain": [
       "<IPython.core.display.HTML object>"
      ],
      "text/html": [
       "\n",
       "            <style>\n",
       "                .geemap-dark {\n",
       "                    --jp-widgets-color: white;\n",
       "                    --jp-widgets-label-color: white;\n",
       "                    --jp-ui-font-color1: white;\n",
       "                    --jp-layout-color2: #454545;\n",
       "                    background-color: #383838;\n",
       "                }\n",
       "\n",
       "                .geemap-dark .jupyter-button {\n",
       "                    --jp-layout-color3: #383838;\n",
       "                }\n",
       "\n",
       "                .geemap-colab {\n",
       "                    background-color: var(--colab-primary-surface-color, white);\n",
       "                }\n",
       "\n",
       "                .geemap-colab .jupyter-button {\n",
       "                    --jp-layout-color3: var(--colab-primary-surface-color, white);\n",
       "                }\n",
       "            </style>\n",
       "            "
      ]
     },
     "metadata": {},
     "output_type": "display_data"
    },
    {
     "name": "stdout",
     "output_type": "stream",
     "text": [
      "Index(['id', 'miejsce', 'rok', 'miesiac', 'dzien', 'temperatura', 'kol1',\n",
      "       'kol2', 'kol3', 'kol4', 'kol5', 'kol6', 'kol7', 'kol8', 'kol9', 'kol10',\n",
      "       'kol11', 'kol12'],\n",
      "      dtype='object')\n",
      "hot_days_2013\n",
      "             id                miejsce   rok  miesiac  dzien  temperatura  \\\n",
      "2169  250190390  KRAKÃW-OBSERWATORIUM  2013        8      1         27.2   \n",
      "2170  250190390  KRAKÃW-OBSERWATORIUM  2013        8      2         31.0   \n",
      "2171  250190390  KRAKÃW-OBSERWATORIUM  2013        8      3         32.8   \n",
      "2172  250190390  KRAKÃW-OBSERWATORIUM  2013        8      4         30.7   \n",
      "2173  250190390  KRAKÃW-OBSERWATORIUM  2013        8      5         31.5   \n",
      "2174  250190390  KRAKÃW-OBSERWATORIUM  2013        8      6         34.2   \n",
      "2175  250190390  KRAKÃW-OBSERWATORIUM  2013        8      7         37.0   \n",
      "2176  250190390  KRAKÃW-OBSERWATORIUM  2013        8      8         38.3   \n",
      "2177  250190390  KRAKÃW-OBSERWATORIUM  2013        8      9         31.4   \n",
      "2185  250190390  KRAKÃW-OBSERWATORIUM  2013        8     17         29.0   \n",
      "2186  250190390  KRAKÃW-OBSERWATORIUM  2013        8     18         31.8   \n",
      "2187  250190390  KRAKÃW-OBSERWATORIUM  2013        8     19         32.5   \n",
      "\n",
      "      kol1  kol2  kol3  kol4  kol5  kol6  kol7  kol8  kol9 kol10  kol11  kol12  \n",
      "2169   NaN  17.9   NaN  22.2   NaN  17.2   NaN   0.0   9.0   NaN      0      9  \n",
      "2170   NaN  14.7   NaN  23.0   NaN  14.2   NaN   0.0   9.0   NaN      0      9  \n",
      "2171   NaN  16.3   NaN  24.1   NaN  15.7   NaN   0.0   9.0   NaN      0      9  \n",
      "2172   NaN  15.5   NaN  22.5   NaN  15.0   NaN   0.0   9.0   NaN      0      9  \n",
      "2173   NaN  18.3   NaN  24.3   NaN  17.7   NaN   0.0   9.0   NaN      0      9  \n",
      "2174   NaN  16.8   NaN  24.8   NaN  16.3   NaN   0.0   9.0   NaN      0      9  \n",
      "2175   NaN  18.5   NaN  26.6   NaN  18.2   NaN   0.0   9.0   NaN      0      9  \n",
      "2176   NaN  19.4   NaN  27.7   NaN  18.7   NaN   0.0   9.0   NaN      0      9  \n",
      "2177   NaN  20.8   NaN  24.1   NaN  19.8   NaN   5.3   NaN     W      0      9  \n",
      "2185   NaN  10.5   NaN  19.0   NaN  10.0   NaN   0.0   9.0   NaN      0      9  \n",
      "2186   NaN  13.3   NaN  21.7   NaN  12.7   NaN   0.0   9.0   NaN      0      9  \n",
      "2187   NaN  16.1   NaN  23.4   NaN  15.5   NaN   0.1   NaN     W      0      9  \n",
      "Index(['id', 'miejsce', 'rok', 'miesiac', 'dzien', 'temperatura', 'kol1',\n",
      "       'kol2', 'kol3', 'kol4', 'kol5', 'kol6', 'kol7', 'kol8', 'kol9', 'kol10',\n",
      "       'kol11', 'kol12'],\n",
      "      dtype='object')\n",
      "hot_days_2024\n",
      "            id                          miejsce   rok  miesiac  dzien  \\\n",
      "651  250190390  KRAKÃW-OBSERWATORIUM            2024        8      2   \n",
      "656  250190390  KRAKÃW-OBSERWATORIUM            2024        8      7   \n",
      "657  250190390  KRAKÃW-OBSERWATORIUM            2024        8      8   \n",
      "659  250190390  KRAKÃW-OBSERWATORIUM            2024        8     10   \n",
      "660  250190390  KRAKÃW-OBSERWATORIUM            2024        8     11   \n",
      "661  250190390  KRAKÃW-OBSERWATORIUM            2024        8     12   \n",
      "662  250190390  KRAKÃW-OBSERWATORIUM            2024        8     13   \n",
      "663  250190390  KRAKÃW-OBSERWATORIUM            2024        8     14   \n",
      "664  250190390  KRAKÃW-OBSERWATORIUM            2024        8     15   \n",
      "665  250190390  KRAKÃW-OBSERWATORIUM            2024        8     16   \n",
      "666  250190390  KRAKÃW-OBSERWATORIUM            2024        8     17   \n",
      "667  250190390  KRAKÃW-OBSERWATORIUM            2024        8     18   \n",
      "668  250190390  KRAKÃW-OBSERWATORIUM            2024        8     19   \n",
      "670  250190390  KRAKÃW-OBSERWATORIUM            2024        8     21   \n",
      "672  250190390  KRAKÃW-OBSERWATORIUM            2024        8     23   \n",
      "673  250190390  KRAKÃW-OBSERWATORIUM            2024        8     24   \n",
      "674  250190390  KRAKÃW-OBSERWATORIUM            2024        8     25   \n",
      "675  250190390  KRAKÃW-OBSERWATORIUM            2024        8     26   \n",
      "676  250190390  KRAKÃW-OBSERWATORIUM            2024        8     27   \n",
      "677  250190390  KRAKÃW-OBSERWATORIUM            2024        8     28   \n",
      "678  250190390  KRAKÃW-OBSERWATORIUM            2024        8     29   \n",
      "679  250190390  KRAKÃW-OBSERWATORIUM            2024        8     30   \n",
      "680  250190390  KRAKÃW-OBSERWATORIUM            2024        8     31   \n",
      "\n",
      "     temperatura  kol1  kol2  kol3  kol4  kol5  kol6  kol7  kol8  kol9 kol10  \\\n",
      "651         27.6   NaN  14.9   NaN  21.0   NaN  14.3   NaN   7.4   NaN     W   \n",
      "656         27.8   NaN  11.6   NaN  19.5   NaN  11.1   NaN   NaN   9.0   NaN   \n",
      "657         28.5   NaN  15.1   NaN  21.1   NaN  14.2   NaN  31.8   NaN     W   \n",
      "659         28.2   NaN  17.7   NaN  22.4   NaN  17.1   NaN   NaN   9.0   NaN   \n",
      "660         28.8   NaN  16.3   NaN  22.3   NaN  15.8   NaN   NaN   9.0   NaN   \n",
      "661         28.0   NaN  13.8   NaN  20.3   NaN  12.9   NaN   NaN   9.0   NaN   \n",
      "662         28.0   NaN  14.3   NaN  20.8   NaN  13.6   NaN   NaN   9.0   NaN   \n",
      "663         29.2   NaN  12.8   NaN  20.9   NaN  11.8   NaN   NaN   9.0   NaN   \n",
      "664         31.9   NaN  16.9   NaN  23.4   NaN  16.2   NaN   NaN   9.0   NaN   \n",
      "665         32.3   NaN  19.8   NaN  25.2   NaN  19.0   NaN   0.0   NaN     W   \n",
      "666         31.3   NaN  19.3   NaN  23.2   NaN  18.3   NaN  23.9   NaN     W   \n",
      "667         29.8   NaN  19.3   NaN  23.8   NaN  18.9   NaN   NaN   9.0   NaN   \n",
      "668         28.9   NaN  19.4   NaN  23.1   NaN  18.6   NaN   NaN   9.0   NaN   \n",
      "670         28.0   NaN  17.0   NaN  21.0   NaN  16.6   NaN   2.7   NaN     W   \n",
      "672         28.3   NaN  11.2   NaN  19.3   NaN  10.9   NaN   NaN   9.0   NaN   \n",
      "673         33.0   NaN  14.6   NaN  23.2   NaN  13.8   NaN   NaN   9.0   NaN   \n",
      "674         33.6   NaN  17.4   NaN  24.2   NaN  16.4   NaN   NaN   9.0   NaN   \n",
      "675         27.4   NaN  18.4   NaN  21.6   NaN  18.6   NaN   NaN   9.0   NaN   \n",
      "676         27.2   NaN  18.0   NaN  22.2   NaN  17.2   NaN   NaN   9.0   NaN   \n",
      "677         30.5   NaN  17.4   NaN  23.5   NaN  16.6   NaN   NaN   9.0   NaN   \n",
      "678         31.7   NaN  17.2   NaN  23.5   NaN  16.3   NaN   NaN   9.0   NaN   \n",
      "679         32.4   NaN  16.5   NaN  23.5   NaN  15.6   NaN   NaN   9.0   NaN   \n",
      "680         30.0   NaN  16.4   NaN  22.0   NaN  15.4   NaN   0.0   NaN     W   \n",
      "\n",
      "     kol11  kol12  \n",
      "651    NaN      9  \n",
      "656    NaN      9  \n",
      "657    NaN      9  \n",
      "659    NaN      9  \n",
      "660    NaN      9  \n",
      "661    NaN      9  \n",
      "662    NaN      9  \n",
      "663    NaN      9  \n",
      "664    NaN      9  \n",
      "665    NaN      9  \n",
      "666    NaN      9  \n",
      "667    NaN      9  \n",
      "668    NaN      9  \n",
      "670    NaN      9  \n",
      "672    NaN      9  \n",
      "673    NaN      9  \n",
      "674    NaN      9  \n",
      "675    NaN      9  \n",
      "676    NaN      9  \n",
      "677    NaN      9  \n",
      "678    NaN      9  \n",
      "679    NaN      9  \n",
      "680    NaN      9  \n"
     ]
    }
   ],
   "execution_count": 21
  },
  {
   "metadata": {},
   "cell_type": "markdown",
   "source": [
    "Task 3: Select Landsat 8 Images Matching These Dates\n",
    "\n",
    "In Earth Engine, use LANDSAT/LC08/C02/T1_L2 collection.\n",
    "Apply filters:\n",
    ".filterBounds(aoi)\n",
    ".filterDate() for the matching day\n",
    ".filterMetadata('CLOUD_COVER', 'less_than', 20)\n",
    "Try to find one image from 2013 and one image from 2024 that match your hot days list."
   ],
   "id": "7327706bd5ce0e53"
  },
  {
   "metadata": {
    "ExecuteTime": {
     "end_time": "2025-04-12T11:08:32.837089Z",
     "start_time": "2025-04-12T11:08:29.366720Z"
    }
   },
   "cell_type": "code",
   "source": [
    "\n",
    "collection_2013 = (\n",
    "    ee.ImageCollection('LANDSAT/LC08/C02/T1_L2')\n",
    "    .filterBounds(aoi)\n",
    "    .filterDate('2013-07-01', '2013-07-31')\n",
    "    .filterMetadata('CLOUD_COVER', 'less_than', 20)\n",
    ")\n",
    "\n",
    "\n",
    "image_list = collection_2013.toList(50)\n",
    "\n",
    "\n",
    "for i in range(image_list.size().getInfo()):\n",
    "    img = ee.Image(image_list.get(i))\n",
    "    props = img.toDictionary(['DATE_ACQUIRED', 'CLOUD_COVER']).getInfo()\n",
    "    \n",
    "    print(f\"{i+1}. Data: {props['DATE_ACQUIRED']}, Zachmurzenie: {props['CLOUD_COVER']}%\")\n",
    "    \n",
    "    \n",
    "image_2013 = collection_2013.first()\n",
    "\n",
    "\n",
    "collection_2024 = (\n",
    "    ee.ImageCollection('LANDSAT/LC09/C02/T1_L2')\n",
    "    .filterBounds(aoi)\n",
    "    .filterDate('2024-08-01', '2024-08-31')\n",
    "    .filterMetadata('CLOUD_COVER', 'less_than', 20)\n",
    ")\n",
    "\n",
    "\n",
    "image_list = collection_2024.toList(50)\n",
    "\n",
    "\n",
    "for i in range(image_list.size().getInfo()):\n",
    "    img = ee.Image(image_list.get(i))\n",
    "    props = img.toDictionary(['DATE_ACQUIRED', 'CLOUD_COVER']).getInfo()\n",
    "    \n",
    "    print(f\"{i+1}. Data: {props['DATE_ACQUIRED']}, Zachmurzenie: {props['CLOUD_COVER']}%\")\n",
    "    \n",
    "image_2024 = collection_2024.first()\n",
    "\n",
    "image_2013 = image_2013.clip(aoi)\n",
    "image_2024 = image_2024.clip(aoi)\n",
    "\n",
    "Map = geemap.Map()\n",
    "Map.centerObject(aoi, zoom=15)\n",
    "\n",
    "\n",
    "vis_params = {\n",
    "    'bands': ['SR_B4', 'SR_B3', 'SR_B2'],\n",
    "    'min': 5000,\n",
    "    'max': 15000,\n",
    "    'gamma': 1.3\n",
    "}\n",
    "\n",
    "Map.addLayer(image_2013, vis_params, 'Landsat 8 - 2013')\n",
    "Map.addLayer(image_2024, vis_params, 'Landsat 9 - 2024')\n",
    "\n",
    "Map.addLayer(aoi, {}, \"AOI\")\n",
    "Map"
   ],
   "id": "4cf6b5986610e876",
   "outputs": [
    {
     "data": {
      "text/plain": [
       "<IPython.core.display.HTML object>"
      ],
      "text/html": [
       "\n",
       "            <style>\n",
       "                .geemap-dark {\n",
       "                    --jp-widgets-color: white;\n",
       "                    --jp-widgets-label-color: white;\n",
       "                    --jp-ui-font-color1: white;\n",
       "                    --jp-layout-color2: #454545;\n",
       "                    background-color: #383838;\n",
       "                }\n",
       "\n",
       "                .geemap-dark .jupyter-button {\n",
       "                    --jp-layout-color3: #383838;\n",
       "                }\n",
       "\n",
       "                .geemap-colab {\n",
       "                    background-color: var(--colab-primary-surface-color, white);\n",
       "                }\n",
       "\n",
       "                .geemap-colab .jupyter-button {\n",
       "                    --jp-layout-color3: var(--colab-primary-surface-color, white);\n",
       "                }\n",
       "            </style>\n",
       "            "
      ]
     },
     "metadata": {},
     "output_type": "display_data"
    },
    {
     "name": "stdout",
     "output_type": "stream",
     "text": [
      "1. Data: 2013-07-22, Zachmurzenie: 8.95%\n",
      "1. Data: 2024-08-13, Zachmurzenie: 0.21%\n",
      "2. Data: 2024-08-29, Zachmurzenie: 0.49%\n"
     ]
    },
    {
     "data": {
      "text/plain": [
       "Map(center=[50.01900279353348, 19.896809999996524], controls=(WidgetControl(options=['position', 'transparent_…"
      ],
      "application/vnd.jupyter.widget-view+json": {
       "version_major": 2,
       "version_minor": 0,
       "model_id": "b78825e353354e6c8e781a4c451ff123"
      }
     },
     "execution_count": 22,
     "metadata": {},
     "output_type": "execute_result"
    }
   ],
   "execution_count": 22
  },
  {
   "metadata": {},
   "cell_type": "markdown",
   "source": [
    "Task 4: Process Thermal Band (ST_B10)\n",
    "\n",
    "Convert Band 10 to Brightness Temperature (Kelvin): TB = ST_B10 * 0.00341802 + 149.0\n",
    "Create a visualization of each image using the same color scale."
   ],
   "id": "255cd5c9c4dc63a0"
  },
  {
   "metadata": {
    "ExecuteTime": {
     "end_time": "2025-04-12T11:08:33.982822Z",
     "start_time": "2025-04-12T11:08:32.837922Z"
    }
   },
   "cell_type": "code",
   "source": [
    "\n",
    "tb_2013 = image_2013.select('ST_B10').multiply(0.00341802).add(149.0).rename('Brightness_Temperature')\n",
    "tb_2024 = image_2024.select('ST_B10').multiply(0.00341802).add(149.0).rename('Brightness_Temperature')\n",
    "\n",
    "\n",
    "vis_params = {\n",
    "    'min': 290,  \n",
    "    'max': 320, \n",
    "    'palette': [\n",
    "    '#ffffcc', '#ffeda0', '#fed976', '#feb24c',\n",
    "    '#fd8d3c', '#fc4e2a', '#e31a1c', '#bd0026', '#800026'\n",
    "]\n",
    "}\n",
    "\n",
    "\n",
    "Map = geemap.Map()\n",
    "Map.centerObject(aoi, 15)\n",
    "Map.addLayer(tb_2013, vis_params, '2013')\n",
    "Map.addLayer(tb_2024, vis_params, '2024')\n",
    "Map"
   ],
   "id": "310d94f62306326c",
   "outputs": [
    {
     "data": {
      "text/plain": [
       "<IPython.core.display.HTML object>"
      ],
      "text/html": [
       "\n",
       "            <style>\n",
       "                .geemap-dark {\n",
       "                    --jp-widgets-color: white;\n",
       "                    --jp-widgets-label-color: white;\n",
       "                    --jp-ui-font-color1: white;\n",
       "                    --jp-layout-color2: #454545;\n",
       "                    background-color: #383838;\n",
       "                }\n",
       "\n",
       "                .geemap-dark .jupyter-button {\n",
       "                    --jp-layout-color3: #383838;\n",
       "                }\n",
       "\n",
       "                .geemap-colab {\n",
       "                    background-color: var(--colab-primary-surface-color, white);\n",
       "                }\n",
       "\n",
       "                .geemap-colab .jupyter-button {\n",
       "                    --jp-layout-color3: var(--colab-primary-surface-color, white);\n",
       "                }\n",
       "            </style>\n",
       "            "
      ]
     },
     "metadata": {},
     "output_type": "display_data"
    },
    {
     "data": {
      "text/plain": [
       "Map(center=[50.01900279353348, 19.896809999996524], controls=(WidgetControl(options=['position', 'transparent_…"
      ],
      "application/vnd.jupyter.widget-view+json": {
       "version_major": 2,
       "version_minor": 0,
       "model_id": "8376432e1c1d4b7985d7d0353d7ca70b"
      }
     },
     "execution_count": 23,
     "metadata": {},
     "output_type": "execute_result"
    }
   ],
   "execution_count": 23
  },
  {
   "metadata": {},
   "cell_type": "markdown",
   "source": [
    "Task 5: Compare and Interpret\n",
    "\n",
    "Compare the two maps.\n",
    "Optionally calculate difference: TB_2024 - TB_2013\n",
    "Discuss: did the surface temperature increase in the area?\n",
    "Is there evidence of an Urban Heat Island effect related to development?"
   ],
   "id": "e4e48dfd72a73b75"
  },
  {
   "metadata": {},
   "cell_type": "markdown",
   "source": "In this task, we compared two thermal maps from 2013 and 2024 to analyze changes in surface temperature over time. We calculated the temperature difference (TB_2024 - TB_2013) to visualize areas with significant warming. The results showed an increase in surface temperature in some parts of the area, indicating possible urban development. This suggests the presence of an Urban Heat Island (UHI) effect related to increased building density and reduced vegetation.\n",
   "id": "6321103725684ff1"
  },
  {
   "metadata": {},
   "cell_type": "code",
   "source": "",
   "id": "2e9d03f2744c4de3",
   "outputs": [],
   "execution_count": 23
  }
 ],
 "metadata": {
  "kernelspec": {
   "display_name": "Python 3",
   "language": "python",
   "name": "python3"
  },
  "language_info": {
   "codemirror_mode": {
    "name": "ipython",
    "version": 2
   },
   "file_extension": ".py",
   "mimetype": "text/x-python",
   "name": "python",
   "nbconvert_exporter": "python",
   "pygments_lexer": "ipython2",
   "version": "2.7.6"
  }
 },
 "nbformat": 4,
 "nbformat_minor": 5
}
