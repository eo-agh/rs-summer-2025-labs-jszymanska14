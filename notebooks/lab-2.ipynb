{
 "cells": [
  {
   "cell_type": "markdown",
   "id": "c115edb2",
   "metadata": {},
   "source": [
    "# Exercise 2: Vegetation Index Analysis\n",
    "In this exercise, you will analyze vegetation changes within one growing season in a selected agricultural region (Kujawy, Poland)."
   ]
  },
  {
   "cell_type": "markdown",
   "id": "1761c7f1",
   "metadata": {},
   "source": [
    "## Task 1: Define AOI\n",
    "Create an Area of Interest (AOI) using the coordinates provided below."
   ]
  },
  {
   "cell_type": "code",
   "id": "9f4c98f3",
   "metadata": {
    "ExecuteTime": {
     "end_time": "2025-03-26T18:29:28.749800Z",
     "start_time": "2025-03-26T18:29:27.511153Z"
    }
   },
   "source": [
    "# TODO: Define AOI\n",
    "import ee\n",
    "import geemap.foliumap as geemap \n",
    "import ssl\n",
    "import webbrowser\n",
    "\n",
    "ssl._create_default_https_context = ssl._create_stdlib_context\n",
    "ee.Authenticate()\n",
    "ee.Initialize(project='ee-juliaszymanska142')\n",
    "\n",
    "aoi = ee.Geometry.Rectangle([19.6, 52.4, 20.0, 52.8])\n"
   ],
   "outputs": [
    {
     "data": {
      "text/plain": [
       "<IPython.core.display.HTML object>"
      ],
      "text/html": [
       "\n",
       "            <style>\n",
       "                .geemap-dark {\n",
       "                    --jp-widgets-color: white;\n",
       "                    --jp-widgets-label-color: white;\n",
       "                    --jp-ui-font-color1: white;\n",
       "                    --jp-layout-color2: #454545;\n",
       "                    background-color: #383838;\n",
       "                }\n",
       "\n",
       "                .geemap-dark .jupyter-button {\n",
       "                    --jp-layout-color3: #383838;\n",
       "                }\n",
       "\n",
       "                .geemap-colab {\n",
       "                    background-color: var(--colab-primary-surface-color, white);\n",
       "                }\n",
       "\n",
       "                .geemap-colab .jupyter-button {\n",
       "                    --jp-layout-color3: var(--colab-primary-surface-color, white);\n",
       "                }\n",
       "            </style>\n",
       "            "
      ]
     },
     "metadata": {},
     "output_type": "display_data"
    }
   ],
   "execution_count": 102
  },
  {
   "cell_type": "markdown",
   "id": "44ec57e7",
   "metadata": {},
   "source": [
    "## Task 2: Retrieve Sentinel-2 Imagery\n",
    "Retrieve two Sentinel-2 satellite images from the following dates: 2023-04-01 and 2023-07-01."
   ]
  },
  {
   "cell_type": "code",
   "id": "cd32529c",
   "metadata": {
    "ExecuteTime": {
     "end_time": "2025-03-26T18:29:37.673600Z",
     "start_time": "2025-03-26T18:29:28.751813Z"
    }
   },
   "source": [
    "# TODO: Retrieve Sentinel-2 images for the selected dates.\n",
    "image1 = ee.ImageCollection('COPERNICUS/S2') \\\n",
    "    .filterBounds(aoi) \\\n",
    "    .filterDate('2023-04-01', '2023-04-03') \\\n",
    "    .sort('CLOUDY_PIXEL_PERCENTAGE', True) \\\n",
    "    .first()\n",
    "\n",
    "image2 = ee.ImageCollection('COPERNICUS/S2') \\\n",
    "    .filterBounds(aoi) \\\n",
    "    .filterDate('2023-07-01', '2023-07-03') \\\n",
    "    .sort('CLOUDY_PIXEL_PERCENTAGE', True) \\\n",
    "    .first()\n",
    "\n",
    "Map2 = geemap.Map()\n",
    "Map2.centerObject(aoi, 10)\n",
    "\n",
    "vis_params = {\n",
    "    'bands': ['B4', 'B3', 'B2'],  \n",
    "    'min': 0,\n",
    "    'max': 3000,\n",
    "    'gamma': 1.4\n",
    "}\n",
    "\n",
    "\n",
    "\n",
    "Map2.addLayer(image1, vis_params, 'Sentinel-2 (2023-04-01)')\n",
    "Map2.addLayer(image2, vis_params, 'Sentinel-2 (2023-07-01)')\n",
    "Map2.addLayer(aoi, {'color': 'red'}, 'AOI')\n",
    "\n",
    "Map2.save(\"map2.html\")\n",
    "webbrowser.open(\"map2.html\")\n"
   ],
   "outputs": [
    {
     "data": {
      "text/plain": [
       "<IPython.core.display.HTML object>"
      ],
      "text/html": [
       "\n",
       "            <style>\n",
       "                .geemap-dark {\n",
       "                    --jp-widgets-color: white;\n",
       "                    --jp-widgets-label-color: white;\n",
       "                    --jp-ui-font-color1: white;\n",
       "                    --jp-layout-color2: #454545;\n",
       "                    background-color: #383838;\n",
       "                }\n",
       "\n",
       "                .geemap-dark .jupyter-button {\n",
       "                    --jp-layout-color3: #383838;\n",
       "                }\n",
       "\n",
       "                .geemap-colab {\n",
       "                    background-color: var(--colab-primary-surface-color, white);\n",
       "                }\n",
       "\n",
       "                .geemap-colab .jupyter-button {\n",
       "                    --jp-layout-color3: var(--colab-primary-surface-color, white);\n",
       "                }\n",
       "            </style>\n",
       "            "
      ]
     },
     "metadata": {},
     "output_type": "display_data"
    },
    {
     "data": {
      "text/plain": [
       "True"
      ]
     },
     "execution_count": 103,
     "metadata": {},
     "output_type": "execute_result"
    }
   ],
   "execution_count": 103
  },
  {
   "cell_type": "markdown",
   "id": "e0d5a72c",
   "metadata": {},
   "source": [
    "## Task 3: Calculate NDVI\n",
    "Calculate the Normalized Difference Vegetation Index (NDVI) for both images."
   ]
  },
  {
   "cell_type": "code",
   "id": "5454dd10",
   "metadata": {
    "ExecuteTime": {
     "end_time": "2025-03-26T18:29:44.451099Z",
     "start_time": "2025-03-26T18:29:37.674490Z"
    }
   },
   "source": [
    "# TODO: Calculate NDVI for both images (Choose the appropriate S-2 bands).\n",
    "ndvi1 = image1.normalizedDifference(['B8', 'B4']).rename('NDVI')\n",
    "\n",
    "\n",
    "ndvi2 = image2.normalizedDifference(['B8', 'B4']).rename('NDVI')\n",
    "\n",
    "ndvi_vis = {\n",
    "    'min': -1,\n",
    "    'max': 1,\n",
    "    'palette': ['blue', 'white', 'green']\n",
    "}\n",
    "\n",
    "Map2.addLayer(ndvi1, ndvi_vis, 'NDVI (2023-04-01)')\n",
    "Map2.addLayer(ndvi2, ndvi_vis, 'NDVI (2023-07-01)')\n",
    "\n",
    "Map2.save(\"NDVI.html\")\n",
    "webbrowser.open(\"NDVI.html\")\n"
   ],
   "outputs": [
    {
     "data": {
      "text/plain": [
       "<IPython.core.display.HTML object>"
      ],
      "text/html": [
       "\n",
       "            <style>\n",
       "                .geemap-dark {\n",
       "                    --jp-widgets-color: white;\n",
       "                    --jp-widgets-label-color: white;\n",
       "                    --jp-ui-font-color1: white;\n",
       "                    --jp-layout-color2: #454545;\n",
       "                    background-color: #383838;\n",
       "                }\n",
       "\n",
       "                .geemap-dark .jupyter-button {\n",
       "                    --jp-layout-color3: #383838;\n",
       "                }\n",
       "\n",
       "                .geemap-colab {\n",
       "                    background-color: var(--colab-primary-surface-color, white);\n",
       "                }\n",
       "\n",
       "                .geemap-colab .jupyter-button {\n",
       "                    --jp-layout-color3: var(--colab-primary-surface-color, white);\n",
       "                }\n",
       "            </style>\n",
       "            "
      ]
     },
     "metadata": {},
     "output_type": "display_data"
    },
    {
     "data": {
      "text/plain": [
       "True"
      ]
     },
     "execution_count": 104,
     "metadata": {},
     "output_type": "execute_result"
    }
   ],
   "execution_count": 104
  },
  {
   "cell_type": "markdown",
   "id": "92023a75",
   "metadata": {},
   "source": [
    "## Task 4: Compare NDVI\n",
    "Display both NDVI indices on the map and calculate and visualize their difference."
   ]
  },
  {
   "cell_type": "code",
   "id": "bc2f4d29",
   "metadata": {
    "ExecuteTime": {
     "end_time": "2025-03-26T18:29:50.939808Z",
     "start_time": "2025-03-26T18:29:44.452812Z"
    }
   },
   "source": [
    "if image1 and image2:\n",
    " \n",
    "    ndvi_diff = ndvi2.subtract(ndvi1).rename('NDVI Change')\n",
    "\n",
    "   \n",
    "    ndvi_diff_vis = {\n",
    "        'min': -0.5,\n",
    "        'max': 0.5,\n",
    "        'palette': ['red', 'white', 'green']\n",
    "    }\n",
    "\n",
    " \n",
    "    Map2.addLayer(ndvi_diff, ndvi_diff_vis, 'NDVI Change (2023-04 to 2023-07)')\n",
    "\n",
    "\n",
    "    stats = ndvi_diff.reduceRegion(\n",
    "        reducer=ee.Reducer.mean(),\n",
    "        geometry=aoi,\n",
    "        scale=30,\n",
    "        bestEffort=True\n",
    "    )\n",
    "    \n",
    "    print(\"The avarege diffrence NDVI:\", stats.getInfo())\n",
    "\n",
    "    \n",
    "    \n",
    "\n",
    "Map2.save(\"Diffrence.html\")\n",
    "webbrowser.open(\"Diffrence.html\")\n",
    "\n",
    "\n"
   ],
   "outputs": [
    {
     "data": {
      "text/plain": [
       "<IPython.core.display.HTML object>"
      ],
      "text/html": [
       "\n",
       "            <style>\n",
       "                .geemap-dark {\n",
       "                    --jp-widgets-color: white;\n",
       "                    --jp-widgets-label-color: white;\n",
       "                    --jp-ui-font-color1: white;\n",
       "                    --jp-layout-color2: #454545;\n",
       "                    background-color: #383838;\n",
       "                }\n",
       "\n",
       "                .geemap-dark .jupyter-button {\n",
       "                    --jp-layout-color3: #383838;\n",
       "                }\n",
       "\n",
       "                .geemap-colab {\n",
       "                    background-color: var(--colab-primary-surface-color, white);\n",
       "                }\n",
       "\n",
       "                .geemap-colab .jupyter-button {\n",
       "                    --jp-layout-color3: var(--colab-primary-surface-color, white);\n",
       "                }\n",
       "            </style>\n",
       "            "
      ]
     },
     "metadata": {},
     "output_type": "display_data"
    },
    {
     "name": "stdout",
     "output_type": "stream",
     "text": [
      "The avarege diffrence NDVI: {'NDVI Change': 0.28811659101413234}\n"
     ]
    },
    {
     "data": {
      "text/plain": [
       "True"
      ]
     },
     "execution_count": 105,
     "metadata": {},
     "output_type": "execute_result"
    }
   ],
   "execution_count": 105
  },
  {
   "metadata": {},
   "cell_type": "markdown",
   "source": [
    "# TODO: Provide your interpretation here in a Markdown cell.\n",
    "The NDVI analysis showed positive changes in many areas, indicating an improvement in vegetation conditions over the analyzed period. This is likely due to the natural growth of plants during the summer season. The eastern part of the map appears completely white, signifying a lack of data, which prevents a detailed analysis of NDVI changes in this region. The most probable causes of this gap are dense cloud cover during satellite data acquisition or limited availability of Sentinel-2 images for this part of the AOI."
   ],
   "id": "b825d51a062abe87"
  },
  {
   "cell_type": "markdown",
   "id": "c968b686",
   "metadata": {},
   "source": [
    "## Task 6: False Color Composite for Vegetation Condition Assessment\n",
    "Add false-color composites (NIR, RED, GREEN) for both dates to the map for visual assessment of vegetation condition."
   ]
  },
  {
   "cell_type": "code",
   "id": "f6c53f4d",
   "metadata": {
    "ExecuteTime": {
     "end_time": "2025-03-26T18:29:55.074651Z",
     "start_time": "2025-03-26T18:29:50.940760Z"
    }
   },
   "source": [
    "# TODO: Create a false-color composite (NIR, RED, GREEN) and add it to the map\n",
    "vegetation_viz = {'bands': ['B8', 'B4', 'B3'], 'min': 0, 'max': 4000}\n",
    "# Add Sentinel-2 images for both dates to the map using this composite.\n",
    "\n",
    "Map2.addLayer(image1, vegetation_viz, 'Vegetation')\n",
    "Map2.addLayer(image2, vegetation_viz, 'Vegetation')\n",
    "\n",
    "Map2.save(\"Vegetation.html\")\n",
    "webbrowser.open(\"Vegetation.html\")"
   ],
   "outputs": [
    {
     "data": {
      "text/plain": [
       "<IPython.core.display.HTML object>"
      ],
      "text/html": [
       "\n",
       "            <style>\n",
       "                .geemap-dark {\n",
       "                    --jp-widgets-color: white;\n",
       "                    --jp-widgets-label-color: white;\n",
       "                    --jp-ui-font-color1: white;\n",
       "                    --jp-layout-color2: #454545;\n",
       "                    background-color: #383838;\n",
       "                }\n",
       "\n",
       "                .geemap-dark .jupyter-button {\n",
       "                    --jp-layout-color3: #383838;\n",
       "                }\n",
       "\n",
       "                .geemap-colab {\n",
       "                    background-color: var(--colab-primary-surface-color, white);\n",
       "                }\n",
       "\n",
       "                .geemap-colab .jupyter-button {\n",
       "                    --jp-layout-color3: var(--colab-primary-surface-color, white);\n",
       "                }\n",
       "            </style>\n",
       "            "
      ]
     },
     "metadata": {},
     "output_type": "display_data"
    },
    {
     "data": {
      "text/plain": [
       "True"
      ]
     },
     "execution_count": 106,
     "metadata": {},
     "output_type": "execute_result"
    }
   ],
   "execution_count": 106
  }
 ],
 "metadata": {
  "language_info": {
   "name": "python"
  },
  "kernelspec": {
   "name": "python3",
   "language": "python",
   "display_name": "Python 3 (ipykernel)"
  }
 },
 "nbformat": 4,
 "nbformat_minor": 5
}
