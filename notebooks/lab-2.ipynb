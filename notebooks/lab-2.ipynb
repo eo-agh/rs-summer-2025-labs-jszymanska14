{
 "cells": [
  {
   "cell_type": "code",
   "id": "initial_id",
   "metadata": {
    "collapsed": true,
    "ExecuteTime": {
     "end_time": "2025-03-26T20:08:46.748465Z",
     "start_time": "2025-03-26T20:08:45.156991Z"
    }
   },
   "source": [
    "import ee\n",
    "import geemap.foliumap as geemap \n",
    "import ssl\n",
    "import webbrowser\n",
    "\n",
    "ssl._create_default_https_context = ssl._create_stdlib_context\n",
    "ee.Authenticate()\n",
    "ee.Initialize(project='ee-juliaszymanska142')\n",
    "\n",
    "# Define Area of Interest (AOI)\n",
    "aoi = ee.Geometry.Rectangle([19.6, 52.4, 20.0, 52.8])\n",
    "\n",
    "\n",
    "Map2 = geemap.Map()\n",
    "Map2.centerObject(aoi, zoom=10)"
   ],
   "outputs": [
    {
     "data": {
      "text/plain": [
       "<IPython.core.display.HTML object>"
      ],
      "text/html": [
       "\n",
       "            <style>\n",
       "                .geemap-dark {\n",
       "                    --jp-widgets-color: white;\n",
       "                    --jp-widgets-label-color: white;\n",
       "                    --jp-ui-font-color1: white;\n",
       "                    --jp-layout-color2: #454545;\n",
       "                    background-color: #383838;\n",
       "                }\n",
       "\n",
       "                .geemap-dark .jupyter-button {\n",
       "                    --jp-layout-color3: #383838;\n",
       "                }\n",
       "\n",
       "                .geemap-colab {\n",
       "                    background-color: var(--colab-primary-surface-color, white);\n",
       "                }\n",
       "\n",
       "                .geemap-colab .jupyter-button {\n",
       "                    --jp-layout-color3: var(--colab-primary-surface-color, white);\n",
       "                }\n",
       "            </style>\n",
       "            "
      ]
     },
     "metadata": {},
     "output_type": "display_data"
    }
   ],
   "execution_count": 18
  },
  {
   "metadata": {
    "ExecuteTime": {
     "end_time": "2025-03-26T20:08:55.496742Z",
     "start_time": "2025-03-26T20:08:46.751617Z"
    }
   },
   "cell_type": "code",
   "source": [
    "image1 = ee.ImageCollection('COPERNICUS/S2') \\\n",
    "    .filterBounds(aoi) \\\n",
    "    .filterDate('2023-04-01', '2023-04-03') \\\n",
    "    .sort('CLOUDY_PIXEL_PERCENTAGE', True) \\\n",
    "    .first()\n",
    "\n",
    "image2 = ee.ImageCollection('COPERNICUS/S2') \\\n",
    "    .filterBounds(aoi) \\\n",
    "    .filterDate('2023-07-01', '2023-07-03') \\\n",
    "    .sort('CLOUDY_PIXEL_PERCENTAGE', True) \\\n",
    "    .first()\n",
    "\n",
    "\n",
    "vis_params = {\n",
    "    'bands': ['B4', 'B3', 'B2'],  \n",
    "    'min': 0,\n",
    "    'max': 3000,\n",
    "    'gamma': 1.4\n",
    "}\n",
    "\n",
    "\n",
    "Map2.addLayer(image1, vis_params, 'Sentinel-2 (2023-04-01)')\n",
    "Map2.addLayer(image2, vis_params, 'Sentinel-2 (2023-07-01)')\n",
    "Map2.addLayer(aoi, {'color': 'red'}, 'AOI')\n",
    "\n",
    "Map2.save(\"map2.html\")\n",
    "webbrowser.open(\"map2.html\")"
   ],
   "id": "23a7dd1ab22333a4",
   "outputs": [
    {
     "data": {
      "text/plain": [
       "<IPython.core.display.HTML object>"
      ],
      "text/html": [
       "\n",
       "            <style>\n",
       "                .geemap-dark {\n",
       "                    --jp-widgets-color: white;\n",
       "                    --jp-widgets-label-color: white;\n",
       "                    --jp-ui-font-color1: white;\n",
       "                    --jp-layout-color2: #454545;\n",
       "                    background-color: #383838;\n",
       "                }\n",
       "\n",
       "                .geemap-dark .jupyter-button {\n",
       "                    --jp-layout-color3: #383838;\n",
       "                }\n",
       "\n",
       "                .geemap-colab {\n",
       "                    background-color: var(--colab-primary-surface-color, white);\n",
       "                }\n",
       "\n",
       "                .geemap-colab .jupyter-button {\n",
       "                    --jp-layout-color3: var(--colab-primary-surface-color, white);\n",
       "                }\n",
       "            </style>\n",
       "            "
      ]
     },
     "metadata": {},
     "output_type": "display_data"
    },
    {
     "data": {
      "text/plain": [
       "True"
      ]
     },
     "execution_count": 19,
     "metadata": {},
     "output_type": "execute_result"
    }
   ],
   "execution_count": 19
  },
  {
   "metadata": {
    "ExecuteTime": {
     "end_time": "2025-03-26T20:08:57.319642Z",
     "start_time": "2025-03-26T20:08:55.497694Z"
    }
   },
   "cell_type": "code",
   "source": [
    "ndvi1 = image1.normalizedDifference(['B8', 'B4']).rename('NDVI')\n",
    "ndvi2 = image2.normalizedDifference(['B8', 'B4']).rename('NDVI')\n",
    "\n",
    "ndvi_vis = {\n",
    "    'min': -1,\n",
    "    'max': 1,\n",
    "    'palette': ['blue', 'white', 'green']\n",
    "}\n",
    "\n",
    "Map2.addLayer(ndvi1, ndvi_vis, 'NDVI (2023-04-01)')\n",
    "Map2.addLayer(ndvi2, ndvi_vis, 'NDVI (2023-07-01)')\n",
    "\n",
    "Map2.save(\"NDVI.html\")\n",
    "webbrowser.open(\"NDVI.html\")"
   ],
   "id": "6af6949e9de42b23",
   "outputs": [
    {
     "data": {
      "text/plain": [
       "<IPython.core.display.HTML object>"
      ],
      "text/html": [
       "\n",
       "            <style>\n",
       "                .geemap-dark {\n",
       "                    --jp-widgets-color: white;\n",
       "                    --jp-widgets-label-color: white;\n",
       "                    --jp-ui-font-color1: white;\n",
       "                    --jp-layout-color2: #454545;\n",
       "                    background-color: #383838;\n",
       "                }\n",
       "\n",
       "                .geemap-dark .jupyter-button {\n",
       "                    --jp-layout-color3: #383838;\n",
       "                }\n",
       "\n",
       "                .geemap-colab {\n",
       "                    background-color: var(--colab-primary-surface-color, white);\n",
       "                }\n",
       "\n",
       "                .geemap-colab .jupyter-button {\n",
       "                    --jp-layout-color3: var(--colab-primary-surface-color, white);\n",
       "                }\n",
       "            </style>\n",
       "            "
      ]
     },
     "metadata": {},
     "output_type": "display_data"
    },
    {
     "data": {
      "text/plain": [
       "True"
      ]
     },
     "execution_count": 20,
     "metadata": {},
     "output_type": "execute_result"
    }
   ],
   "execution_count": 20
  },
  {
   "metadata": {
    "ExecuteTime": {
     "end_time": "2025-03-26T20:09:00.801427Z",
     "start_time": "2025-03-26T20:08:57.321307Z"
    }
   },
   "cell_type": "code",
   "source": [
    "if image1 and image2:\n",
    "    ndvi_diff = ndvi2.subtract(ndvi1).rename('NDVI Change')\n",
    "\n",
    "    ndvi_diff_vis = {\n",
    "        'min': -0.5,\n",
    "        'max': 0.5,\n",
    "        'palette': ['red', 'white', 'green']\n",
    "    }\n",
    "\n",
    "    Map2.addLayer(ndvi_diff, ndvi_diff_vis, 'NDVI Change (2023-04 to 2023-07)')\n",
    "\n",
    "  \n",
    "    stats = ndvi_diff.reduceRegion(\n",
    "        reducer=ee.Reducer.mean(),\n",
    "        geometry=aoi,\n",
    "        scale=30,\n",
    "        bestEffort=True\n",
    "    )\n",
    "\n",
    "    print(\"The average difference of NDVI:\", stats.getInfo())\n",
    "\n",
    "Map2.save(\"Difference.html\")\n",
    "webbrowser.open(\"Difference.html\")"
   ],
   "id": "cae96e029fed8fd7",
   "outputs": [
    {
     "data": {
      "text/plain": [
       "<IPython.core.display.HTML object>"
      ],
      "text/html": [
       "\n",
       "            <style>\n",
       "                .geemap-dark {\n",
       "                    --jp-widgets-color: white;\n",
       "                    --jp-widgets-label-color: white;\n",
       "                    --jp-ui-font-color1: white;\n",
       "                    --jp-layout-color2: #454545;\n",
       "                    background-color: #383838;\n",
       "                }\n",
       "\n",
       "                .geemap-dark .jupyter-button {\n",
       "                    --jp-layout-color3: #383838;\n",
       "                }\n",
       "\n",
       "                .geemap-colab {\n",
       "                    background-color: var(--colab-primary-surface-color, white);\n",
       "                }\n",
       "\n",
       "                .geemap-colab .jupyter-button {\n",
       "                    --jp-layout-color3: var(--colab-primary-surface-color, white);\n",
       "                }\n",
       "            </style>\n",
       "            "
      ]
     },
     "metadata": {},
     "output_type": "display_data"
    },
    {
     "name": "stdout",
     "output_type": "stream",
     "text": [
      "The average difference of NDVI: {'NDVI Change': 0.28811659101413234}\n"
     ]
    },
    {
     "data": {
      "text/plain": [
       "True"
      ]
     },
     "execution_count": 21,
     "metadata": {},
     "output_type": "execute_result"
    }
   ],
   "execution_count": 21
  },
  {
   "metadata": {},
   "cell_type": "markdown",
   "source": "The NDVI analysis showed positive changes in many areas, indicating an improvement in vegetation conditions over the analyzed period. This is likely due to the natural growth of plants during the summer season. The eastern part of the map appears completely white, signifying a lack of data, which prevents a detailed analysis of NDVI changes in this region. The most probable causes of this gap are dense cloud cover during satellite data acquisition or limited availability of Sentinel-2 images for this part of the AOI.",
   "id": "8ce42a6dcbbfc9da"
  },
  {
   "metadata": {
    "ExecuteTime": {
     "end_time": "2025-03-26T20:09:07.826328Z",
     "start_time": "2025-03-26T20:09:00.802570Z"
    }
   },
   "cell_type": "code",
   "source": [
    "vegetation_viz = {'bands': ['B8', 'B4', 'B3'], 'min': 0, 'max': 4000}\n",
    "\n",
    "Map2.addLayer(image1, vegetation_viz, 'Vegetation (2023-04-01)')\n",
    "Map2.addLayer(image2, vegetation_viz, 'Vegetation (2023-07-01)')\n",
    "\n",
    "Map2.save(\"Vegetation.html\")\n",
    "webbrowser.open(\"Vegetation.html\")"
   ],
   "id": "5f512c33717a2dd",
   "outputs": [
    {
     "data": {
      "text/plain": [
       "<IPython.core.display.HTML object>"
      ],
      "text/html": [
       "\n",
       "            <style>\n",
       "                .geemap-dark {\n",
       "                    --jp-widgets-color: white;\n",
       "                    --jp-widgets-label-color: white;\n",
       "                    --jp-ui-font-color1: white;\n",
       "                    --jp-layout-color2: #454545;\n",
       "                    background-color: #383838;\n",
       "                }\n",
       "\n",
       "                .geemap-dark .jupyter-button {\n",
       "                    --jp-layout-color3: #383838;\n",
       "                }\n",
       "\n",
       "                .geemap-colab {\n",
       "                    background-color: var(--colab-primary-surface-color, white);\n",
       "                }\n",
       "\n",
       "                .geemap-colab .jupyter-button {\n",
       "                    --jp-layout-color3: var(--colab-primary-surface-color, white);\n",
       "                }\n",
       "            </style>\n",
       "            "
      ]
     },
     "metadata": {},
     "output_type": "display_data"
    },
    {
     "data": {
      "text/plain": [
       "True"
      ]
     },
     "execution_count": 22,
     "metadata": {},
     "output_type": "execute_result"
    }
   ],
   "execution_count": 22
  }
 ],
 "metadata": {
  "kernelspec": {
   "display_name": "Python 3",
   "language": "python",
   "name": "python3"
  },
  "language_info": {
   "codemirror_mode": {
    "name": "ipython",
    "version": 2
   },
   "file_extension": ".py",
   "mimetype": "text/x-python",
   "name": "python",
   "nbconvert_exporter": "python",
   "pygments_lexer": "ipython2",
   "version": "2.7.6"
  }
 },
 "nbformat": 4,
 "nbformat_minor": 5
}
